{
  "nbformat": 4,
  "nbformat_minor": 0,
  "metadata": {
    "colab": {
      "name": "UQExercise.ipynb",
      "provenance": [],
      "collapsed_sections": [],
      "authorship_tag": "ABX9TyOjjQDnurhnbWeAkyupQrZo",
      "include_colab_link": true
    },
    "kernelspec": {
      "name": "python3",
      "display_name": "Python 3"
    },
    "language_info": {
      "name": "python"
    }
  },
  "cells": [
    {
      "cell_type": "markdown",
      "metadata": {
        "id": "view-in-github",
        "colab_type": "text"
      },
      "source": [
        "<a href=\"https://colab.research.google.com/github/hyd3nekosuki/UQExcercize/blob/main/UQExercise.ipynb\" target=\"_parent\"><img src=\"https://colab.research.google.com/assets/colab-badge.svg\" alt=\"Open In Colab\"/></a>"
      ]
    },
    {
      "cell_type": "code",
      "metadata": {
        "id": "oarWV524jJQk"
      },
      "source": [
        "import numpy as np\n",
        "from scipy.misc import derivative\n",
        "import matplotlib.pyplot as plt\n",
        "from numba import njit\n",
        "\n",
        "@njit(cache=True)\n",
        "def modelFunction(x,y):\n",
        "   return 2*x - 3*y \n",
        "\n",
        "@njit(cache=True)\n",
        "def randomMultivariateNormalSVD(ave, cov, n=None):\n",
        "    if n is None:\n",
        "        n=1\n",
        "    X = np.random.randn(n, len(ave))\n",
        "    U, s, V =  np.linalg.svd(cov, full_matrices=False)\n",
        "    S = np.diag ( np.sqrt(s) )\n",
        "    A = U.dot(S)\n",
        "    Y = ave + np.dot(X,A.T)\n",
        "\n",
        "    return Y\n"
      ],
      "execution_count": 1,
      "outputs": []
    },
    {
      "cell_type": "code",
      "metadata": {
        "id": "2O8hGsmljfpD"
      },
      "source": [
        "xave = 1.0\n",
        "ux = 0.5\n",
        "yave = 4.0\n",
        "uy = 2.0\n",
        "rho = 0.5\n",
        "\n",
        "ave = np.array( [xave, yave] )\n",
        "cov = np.array([[ux**2, ux*uy*rho], [uy*ux*rho, uy**2]])"
      ],
      "execution_count": 2,
      "outputs": []
    },
    {
      "cell_type": "code",
      "metadata": {
        "colab": {
          "base_uri": "https://localhost:8080/"
        },
        "id": "K49M49RhB34d",
        "outputId": "437edd96-62f7-4258-9428-a1da3188bbaf"
      },
      "source": [
        "# Sandwich formula\n",
        "eps = 1e-5\n",
        "dzdx = (modelFunction(xave*(1+eps), yave) - modelFunction(xave*(1-eps), yave))/(2*eps*xave)\n",
        "dzdy = (modelFunction(xave, yave*(1+eps)) - modelFunction(xave, yave*(1-eps)))/(2*eps*yave)\n",
        "S = np.array([dzdx, dzdy]).reshape( (1, len(ave)) )\n",
        "zave = modelFunction(xave, yave) \n",
        "uz = np.sqrt( (S.dot(cov)).dot(S.T) )[0,0]\n",
        "print(zave, uz)"
      ],
      "execution_count": 3,
      "outputs": [
        {
          "output_type": "stream",
          "text": [
            "-10.0 5.56776436283858\n"
          ],
          "name": "stdout"
        }
      ]
    },
    {
      "cell_type": "code",
      "metadata": {
        "colab": {
          "base_uri": "https://localhost:8080/"
        },
        "id": "BIco1lTI5Ahy",
        "outputId": "0ac6045e-623f-402b-9156-ddd098e41e3a"
      },
      "source": [
        "# UT sampling\n",
        "r = np.linalg.matrix_rank(cov)\n",
        "n=2*r+1\n",
        "kappa = 3.0 - r\n",
        "\n",
        "\n",
        "U, s, V =  np.linalg.svd(cov, full_matrices=False)\n",
        "A = U.dot( np.diag ( np.sqrt(s) ) )\n",
        "\n",
        "X = np.zeros((n, len(ave)))\n",
        "weight = np.zeros(n)\n",
        "factor = np.sqrt(r+kappa)\n",
        "X[0,:] = ave\n",
        "for i in range(r):\n",
        "    ip = 2*i+1\n",
        "    im = 2*i+2\n",
        "        \n",
        "    X[ip,:] = ave + factor*A[:,i]\n",
        "    X[im,:] = ave - factor*A[:,i]\n",
        "    weight[ip]   = 1/(2*(r+kappa))\n",
        "    weight[im]   = 1/(2*(r+kappa))\n",
        "weight[0] = 1.0 - weight.sum()\n",
        "\n",
        "\"\"\"\n",
        "aveUT = np.zeros( len(ave) )\n",
        "for i in range(n):\n",
        "    aveUT += weight[i] *(X[i,:])\n",
        "\n",
        "covUT = np.zeros_like(cov)\n",
        "for i in range(n):\n",
        "    sigma = (X[i,:] - aveUT).reshape((1,len(ave)))\n",
        "    covUT += weight[i] * sigma.T.dot(sigma)\n",
        "print(covUT)\n",
        "\"\"\"\n",
        "\n",
        "z = modelFunction(X[:,0], X[:,1])\n",
        "zave = 0.0\n",
        "for i in range(n):\n",
        "    zave += weight[i]*z[i]\n",
        "\n",
        "uz = 0.0\n",
        "for i in range(n):\n",
        "    sigma = (z[i] - zave)\n",
        "    uz += weight[i] * sigma**2\n",
        "uz = np.sqrt(uz)\n",
        "print(zave, uz)"
      ],
      "execution_count": 4,
      "outputs": [
        {
          "output_type": "stream",
          "text": [
            "-10.0 5.5677643628300215\n"
          ],
          "name": "stdout"
        }
      ]
    },
    {
      "cell_type": "code",
      "metadata": {
        "colab": {
          "base_uri": "https://localhost:8080/"
        },
        "id": "_Ql_NEyM32S0",
        "outputId": "dbaef7a6-3013-446f-e82d-deb093a839b2"
      },
      "source": [
        "# random sampling\n",
        "xy = randomMultivariateNormalSVD(ave, cov, 1000000)\n",
        "\n",
        "z = modelFunction(xy[:,0], xy[:,1])\n",
        "zave = z.mean()\n",
        "uz = z.std(ddof=1)\n",
        "print(zave, uz)"
      ],
      "execution_count": 5,
      "outputs": [
        {
          "output_type": "stream",
          "text": [
            "-9.99531654567099 5.572212810536662\n"
          ],
          "name": "stdout"
        }
      ]
    }
  ]
}
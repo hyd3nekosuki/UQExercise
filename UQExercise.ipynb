{
  "nbformat": 4,
  "nbformat_minor": 0,
  "metadata": {
    "colab": {
      "name": "UQExercise.ipynb",
      "provenance": [],
      "collapsed_sections": [],
      "authorship_tag": "ABX9TyNnYjUsv5/PAW4zisdLR9Kn",
      "include_colab_link": true
    },
    "kernelspec": {
      "name": "python3",
      "display_name": "Python 3"
    },
    "language_info": {
      "name": "python"
    }
  },
  "cells": [
    {
      "cell_type": "markdown",
      "metadata": {
        "id": "view-in-github",
        "colab_type": "text"
      },
      "source": [
        "<a href=\"https://colab.research.google.com/github/hyd3nekosuki/UQExercise/blob/main/UQExercise.ipynb\" target=\"_parent\"><img src=\"https://colab.research.google.com/assets/colab-badge.svg\" alt=\"Open In Colab\"/></a>"
      ]
    },
    {
      "cell_type": "markdown",
      "metadata": {
        "id": "8JV01wb_S0-2"
      },
      "source": [
        "# 不確かさ評価の例題"
      ]
    },
    {
      "cell_type": "code",
      "metadata": {
        "id": "oarWV524jJQk"
      },
      "source": [
        "import numpy as np\n",
        "from scipy.misc import derivative\n",
        "import matplotlib.pyplot as plt\n",
        "from numba import njit"
      ],
      "execution_count": 1,
      "outputs": []
    },
    {
      "cell_type": "markdown",
      "metadata": {
        "id": "9xM8MAOsSgM_"
      },
      "source": [
        "入力変数$x,y$に対して、出力$z$が関数$z=f(x,y)$で表されるとする。"
      ]
    },
    {
      "cell_type": "code",
      "metadata": {
        "id": "YfrBCm5iObiF"
      },
      "source": [
        "@njit(cache=True)\n",
        "def modelFunction(x,y):\n",
        "   return 2*x**2 - 3*y"
      ],
      "execution_count": 2,
      "outputs": []
    },
    {
      "cell_type": "markdown",
      "metadata": {
        "id": "Lq31eUu0SzKx"
      },
      "source": [
        "2つの入力変数$x,y$の平均$\\mu_x, \\mu_y$、および共分散行列$\\mathbf{\\Sigma}$を設定する。"
      ]
    },
    {
      "cell_type": "code",
      "metadata": {
        "id": "2O8hGsmljfpD"
      },
      "source": [
        "xave = 1.0  # mean of x\n",
        "ux = 0.5    # standard deviation of x\n",
        "yave = 4.0  # mean of y\n",
        "uy = 2.0    # standard deviation of y\n",
        "rho = 0.5   # correlation between x and y\n",
        "\n",
        "ave = np.array( [xave, yave] )\n",
        "cov = np.array([[ux**2, ux*uy*rho], [uy*ux*rho, uy**2]])"
      ],
      "execution_count": 3,
      "outputs": []
    },
    {
      "cell_type": "markdown",
      "metadata": {
        "id": "_e_xMnXrUGBC"
      },
      "source": [
        "## サンドイッチ則に基づいた不確かさ伝播による出力$z$の不確かさ評価\n",
        "\n",
        "$$ \\sigma_{z} \\approx \\mathbf{S} \\mathbf{\\Sigma} \\mathbf{S}^T $$"
      ]
    },
    {
      "cell_type": "code",
      "metadata": {
        "colab": {
          "base_uri": "https://localhost:8080/"
        },
        "id": "K49M49RhB34d",
        "outputId": "f4c380ba-9ae6-45cb-abe7-d5485fbbbd9b"
      },
      "source": [
        "# Sandwich formula\n",
        "# evaluation of sensitivity matrix using numerical differentiation\n",
        "eps = 1e-5\n",
        "dzdx = (modelFunction(xave*(1+eps), yave) - modelFunction(xave*(1-eps), yave))/(2*eps*xave)\n",
        "dzdy = (modelFunction(xave, yave*(1+eps)) - modelFunction(xave, yave*(1-eps)))/(2*eps*yave)\n",
        "\n",
        "S = np.array([dzdx, dzdy]).reshape( (1, len(ave)) )\n",
        "\n",
        "zbar = modelFunction(xave, yave) \n",
        "uz = np.sqrt( (S.dot(cov)).dot(S.T) )[0,0]\n",
        "print(\"z = {0} ± {1}\".format(zbar, uz))"
      ],
      "execution_count": 4,
      "outputs": [
        {
          "output_type": "stream",
          "text": [
            "z = -10.0 ± 5.291502622121884\n"
          ],
          "name": "stdout"
        }
      ]
    },
    {
      "cell_type": "markdown",
      "metadata": {
        "id": "2POhE5A9Vvgg"
      },
      "source": [
        "## Unscented変換に基づいた決定論的サンプリングによる出力$z$の不確かさ評価"
      ]
    },
    {
      "cell_type": "code",
      "metadata": {
        "colab": {
          "base_uri": "https://localhost:8080/"
        },
        "id": "BIco1lTI5Ahy",
        "outputId": "038c8fa8-952c-4f83-d066-58234662d996"
      },
      "source": [
        "# UT sampling\n",
        "# check the rank of covariance matrix\n",
        "r = np.linalg.matrix_rank(cov)\n",
        "n=2*r+1\n",
        "# kappa = 0.5\n",
        "kappa = 3.0 - r\n",
        "\n",
        "# SVD\n",
        "U, s, V =  np.linalg.svd(cov, full_matrices=False)\n",
        "# square root of covariance matrix\n",
        "A = U.dot( np.diag ( np.sqrt(s) ) )\n",
        "\n",
        "X = np.zeros((n, len(ave)))\n",
        "weight = np.zeros(n)\n",
        "factor = np.sqrt(r+kappa)\n",
        "X[0,:] = ave\n",
        "for i in range(r):\n",
        "    ip = 2*i+1\n",
        "    im = 2*i+2\n",
        "        \n",
        "    X[ip,:] = ave + factor*A[:,i]\n",
        "    X[im,:] = ave - factor*A[:,i]\n",
        "    weight[ip]   = 1/(2*(r+kappa))\n",
        "    weight[im]   = 1/(2*(r+kappa))\n",
        "weight[0] = 1.0 - weight.sum()\n",
        "\n",
        "\"\"\"\n",
        "aveUT = np.zeros( len(ave) )\n",
        "for i in range(n):\n",
        "    aveUT += weight[i] *(X[i,:])\n",
        "print(aveUT)\n",
        "\n",
        "covUT = np.zeros_like(cov)\n",
        "for i in range(n):\n",
        "    sigma = (X[i,:] - aveUT).reshape((1,len(ave)))\n",
        "    covUT += weight[i] * sigma.T.dot(sigma)\n",
        "print(covUT)\n",
        "\"\"\"\n",
        "\n",
        "z = modelFunction(X[:,0], X[:,1])\n",
        "zaveUT = 0.0\n",
        "for i in range(n):\n",
        "    zaveUT += weight[i]*z[i]\n",
        "\n",
        "uzUT = 0.0\n",
        "for i in range(n):\n",
        "    sigma = (z[i] - zaveUT)\n",
        "    uzUT += weight[i] * sigma**2\n",
        "uzUT = np.sqrt(uzUT)\n",
        "print(\"z = {0} ± {1}\".format(zaveUT, uzUT))"
      ],
      "execution_count": 5,
      "outputs": [
        {
          "output_type": "stream",
          "text": [
            "z = -9.5 ± 5.310484423598097\n"
          ],
          "name": "stdout"
        }
      ]
    },
    {
      "cell_type": "markdown",
      "metadata": {
        "id": "5IEt1qJdOf3K"
      },
      "source": [
        "## ランダムサンプリング法による出力$z$の不確かさ評価"
      ]
    },
    {
      "cell_type": "code",
      "metadata": {
        "id": "gdC1tNlaOeNq"
      },
      "source": [
        "@njit(cache=True)\n",
        "def randomMultivariateNormalSVD(ave, cov, n=None):\n",
        "    if n is None:\n",
        "        n=1\n",
        "    xi = np.random.randn(n, len(ave))\n",
        "    U, s, V =  np.linalg.svd(cov, full_matrices=False)\n",
        "    S = np.diag ( np.sqrt(s) )\n",
        "    A = U.dot(S)\n",
        "    X = ave + np.dot(xi, A.T)\n",
        "    return X"
      ],
      "execution_count": 6,
      "outputs": []
    },
    {
      "cell_type": "code",
      "metadata": {
        "colab": {
          "base_uri": "https://localhost:8080/",
          "height": 297
        },
        "id": "_Ql_NEyM32S0",
        "outputId": "23079b2a-66ab-4c8a-c2f1-a7f917a42140"
      },
      "source": [
        "# random sampling\n",
        "n = 10000\n",
        "X = randomMultivariateNormalSVD(ave, cov, 10000)\n",
        "\n",
        "z = modelFunction(X[:,0], X[:,1])\n",
        "zaveRS = z.mean()\n",
        "uzRS = z.std(ddof=1)\n",
        "print(\"z = {0} ± {1}\".format(zaveRS, uzRS))\n",
        "plt.hist(z, bins=20)\n",
        "plt.xlabel(\"$z$\")\n",
        "plt.show()"
      ],
      "execution_count": 7,
      "outputs": [
        {
          "output_type": "stream",
          "text": [
            "z = -9.492445151976728 ± 5.387244265074252\n"
          ],
          "name": "stdout"
        },
        {
          "output_type": "display_data",
          "data": {
            "image/png": "[encoded data removed]",
            "text/plain": [
              "<Figure size 432x288 with 1 Axes>"
            ]
          },
          "metadata": {
            "tags": [],
            "needs_background": "light"
          }
        }
      ]
    }
  ]
}